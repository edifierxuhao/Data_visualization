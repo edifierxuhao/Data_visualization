{
 "cells": [
  {
   "cell_type": "markdown",
   "metadata": {},
   "source": [
    "### Summary Statistics vs. Visualizations\n",
    "Summary statistics like the mean and standard deviation can be great for attempting to quickly understand aspects of a dataset, but they can also be misleading if you make too many assumptions about how the data distribution looks."
   ]
  },
  {
   "cell_type": "markdown",
   "metadata": {},
   "source": [
    "the [Datasaurus](https://video.udacity-data.com/topher/2019/November/5dc49fcf_samestats-differentgraphs/samestats-differentgraphs.pdf) dataset, which is amazingly insightful and artistic, but is built on the same idea that you just discovered. You can find the full dataset, and the visualizations on the Datasaurus link."
   ]
  },
  {
   "cell_type": "markdown",
   "metadata": {},
   "source": [
    "### Exploratory vs. Explanatory Analyses\n",
    "\n",
    "There are two main reasons for creating visuals using data:\n",
    "\n",
    "1. **Exploratory analysis** is done when you are searching for insights. These visualizations don't need to be perfect. You are using plots to find insights, but they don't need to be aesthetically appealing. You are the consumer of these plots, and you need to be able to find the answer to your questions from these plots.\n",
    "\n",
    "\n",
    "2. **Explanatory analysis** is done when you are providing your results for others. These visualizations need to provide you the emphasis necessary to convey your message. They should be accurate, insightful, and visually appealing.\n",
    "\n",
    "The five steps of the data analysis process:\n",
    "\n",
    "1. Extract - Obtain the data from a spreadsheet, SQL, the web, etc.\n",
    "\n",
    "2. Clean - Here we could use exploratory visuals.\n",
    "\n",
    "3. Explore - Here we use exploratory visuals.\n",
    "\n",
    "4. Analyze - Here we might use either exploratory or explanatory visuals.\n",
    "\n",
    "5. Share - Here is where explanatory visuals live."
   ]
  },
  {
   "cell_type": "markdown",
   "metadata": {},
   "source": [
    "### Univariate plots\n",
    "For quantitative data, if we are just looking at one column worth of data, we have four common visuals:\n",
    "\n",
    "1. Histogram\n",
    "2. Normal Quantile Plot\n",
    "3. Stem and Leaf Plot\n",
    "4. Box and Whisker Plot\n",
    "\n",
    "In most cases, you will want to use a **histogram**.\n",
    "\n",
    "For categorical data, if we are looking at just one variable (column), we have three common visuals:\n",
    "\n",
    "1. Bar Chart\n",
    "2. Pie Chart\n",
    "3. Pareto Chart（A Pareto chart is a type of chart that contains both bars and a line graph, where individual values are represented in descending order by bars, and the cumulative total is represented by the line.帕累托图根据“关键的少数和次要的多数”的原理而制做，其结构为两个纵坐标和一个横坐标，由数个直方形和一条折线构成。左侧纵坐标表示频率，右侧纵坐标则表示累计频率（以百分比表示），横坐标表示影响质量的各种因素之名称，按影响大小顺序排列，直方形高度表示相应的因素的影响程度（即出现频率为多少），上方之折线则表示累计频率线（又称帕累托图曲线））\n",
    "\n",
    "In most cases, you will want to use a **bar chart**."
   ]
  },
  {
   "attachments": {},
   "cell_type": "markdown",
   "metadata": {},
   "source": [
    "### Scatter plots\n",
    "Scatter plots are a common visual for comparing two quantitative variables. A common summary statistic that relates to a scatter plot is the **correlation coefficient** commonly denoted by **r**.\n",
    "\n",
    "Though there are a few different ways to measure correlation between two variables, the most common way is with [Pearson's correlation coefficient](https://en.wikipedia.org/wiki/Pearson_correlation_coefficient). Pearson's correlation coefficient provides the\n",
    "\n",
    "1. Strength\n",
    "2. Direction\n",
    "\n",
    "of a **linear relationship**. [Spearman's Correlation Coefficient](https://en.wikipedia.org/wiki/Spearman%27s_rank_correlation_coefficient) [中文版](https://zh.wikipedia.org/wiki/%E6%96%AF%E7%9A%AE%E5%B0%94%E6%9B%BC%E7%AD%89%E7%BA%A7%E7%9B%B8%E5%85%B3%E7%B3%BB%E6%95%B0)does not measure linear relationships specifically, and it might be more appropriate for certain cases of associating two variables."
   ]
  },
  {
   "cell_type": "markdown",
   "metadata": {},
   "source": [
    "### Line plots \n",
    "Line plots are a common plot for viewing data over time. These plots allow us to quickly identify overall trends, seasonal occurrences, peaks, and valleys in the data. You will commonly see these used in looking at stock prices over time, but really tracking anything over time can be easily viewed using these plots."
   ]
  },
  {
   "cell_type": "markdown",
   "metadata": {},
   "source": [
    "You can see one of Cole's seminars here. She stresses that six lessons of communicating with data:\n",
    "\n",
    "- **Understand the context** - this means knowing your audience and conveying a clear message about what you want your audience to know or do with the information you are providing.\n",
    "\n",
    "- **Choose an appropriate visual display** - this was covered in the last lesson. Check out the lesson titled recap in the previous section if you need a quick refresher.\n",
    "\n",
    "- **Eliminate clutter** - you should only provide information to the user that helps convey your message.\n",
    "\n",
    "- **Focus attention where you want it**  - build visualizations that pull attention to the message you want to highlight.\n",
    "\n",
    "- **Think like a designer**  - you will learn a number of design principles in this lesson to assist as you start to put together your own data visualizations.\n",
    "\n",
    "- **Tell a story**  - your visualizations should give the audience a story. The most powerful data visualizations move people to take action."
   ]
  },
  {
   "cell_type": "markdown",
   "metadata": {},
   "source": [
    "### Experts say about visual encodings\n",
    "\n",
    "Experts and researchers have determined the types of visual patterns that allow humans to best understand certain information. \n",
    "\n",
    "In general, humans are able to ****best understand** data encoded with **positional changes** (differences in x- and y- position as we see with scatterplots) and **length changes** (differences in box heights as we see with bar charts and histograms).\n",
    "\n",
    "Alternatively, humans **struggle** with understanding data encoded with **color hue changes** (as are unfortunately commonly used as an additional variable encoding in scatter plots - we'll study this in upcoming concepts) and **area changes** (as we see in pie charts, which often makes them not the best plot choice).\n",
    "\n",
    "So, corlor should be reserved for drawing the eye of your audience to a key finding, and not for differing the bars of a bar chart with no message.\n",
    "\n",
    "charts tha have arching angles or compare based on areas can easily deceive us."
   ]
  },
  {
   "cell_type": "markdown",
   "metadata": {},
   "source": [
    "### Chart junk\n",
    "\n",
    "Chart junk refers to all visual elements in charts and graphs that are not necessary to comprehend the information represented on the graph or that distract the viewer from this information.\n",
    "\n",
    "Examples of chart junk you saw in this video include:\n",
    "\n",
    "1. Heavy grid lines\n",
    "2. Unnecessary text\n",
    "3. Pictures surrounding the visual\n",
    "4. Shading or 3d components\n",
    "5. Ornamented chart axes\n",
    "\n",
    "The **data-ink ratio**, credited to Edward Tufte, is directly related to the idea of chart junk. The more of the ink in your visual that is related to conveying the message in the data, the better.\n",
    "\n",
    "**Limiting chart junk increases the data-ink ratio.**"
   ]
  },
  {
   "cell_type": "markdown",
   "metadata": {},
   "source": [
    "### Design Integrity Notes\n",
    "It is key that when you build plots you maintain integrity for the underlying data.\n",
    "\n",
    "One of the main ways discussed here for looking at data integrity was with the **lie factor**. Lie factor depicts the degree to which a visualization distorts or misrepresents the data values being plotted. It is calculated in the following way:\n",
    "\n",
    "### $$ lie\\;factor = \\frac{\\Delta visual\\: /\\: visual_{start}}{\\Delta data\\: /\\:data_{start}}$$\n",
    "\n",
    "The delta symbol ($\\Delta$) stands for difference or change. In words, the lie factor is the relative change shown in the graphic divided by the actual relative change in the data. Ideally, the lie factor should be 1: any other value means that there is some mismatch in the ratio of depicted change to actual change."
   ]
  },
  {
   "cell_type": "markdown",
   "metadata": {},
   "source": [
    "### Effective Explanatory Visual Recap\n",
    "What have you learned so far?\n",
    "At this point, you have all you need to make effective explanatory visuals. Simplicity is the key to displaying your message to any audience. You know\n",
    "\n",
    "- The types of plots you can build with different variables.\n",
    "- The difference between exploratory and explanatory visuals.\n",
    "- Important visual components like position, size, color, and length.\n",
    "- The importance of design integrity, and how to assure your visuals maintain integrity.\n",
    "- The importance of removing chart junk.\n",
    "In the upcoming concepts before the end of this lesson, you will learn about some additional effects that you can add to your visualizations. Use these when necessary, but don't overdo it."
   ]
  },
  {
   "cell_type": "markdown",
   "metadata": {},
   "source": [
    "### Color\n",
    "Color can both help and hurt a data visualization. Three tips for using color effectively.\n",
    "\n",
    "- Before adding color to a visualization, start with black and white.\n",
    "\n",
    "- When using color, use less intense colors - not all the colors of the rainbow, which is the default in many software applications.\n",
    "\n",
    "- Color for communication. Use color to highlight your message and separate groups of interest. Don't add color just to have color in your visualization."
   ]
  },
  {
   "cell_type": "markdown",
   "metadata": {},
   "source": [
    "### color blindness\n",
    "To be sensitive to those with colorblindness, you should use color palettes that do not move from red to green without using another element to distinguish this change like shape, position, or lightness. Both of these colors appear in a yellow tint to individuals with the most common types of colorblindness. Instead, use colors on a blue to orange palette.\n",
    "\n",
    "Tableau Blog: [5 tips on designing colorblind-friendly visualizations](https://www.tableau.com/about/blog/2016/4/examining-data-viz-rules-dont-use-red-green-together-53463)"
   ]
  },
  {
   "cell_type": "markdown",
   "metadata": {},
   "source": [
    "### Additional Encodings\n",
    "As seen earlier in the lesson, we typically try to use position on the x- and y- axes to encode, or depict the value of variables. If we have more than two variables, however, we have to start considering other visual encodings for the additional variables.\n",
    "\n",
    "In general, **color and shape** are best for **categorical** variables, while the **size of marker** can assist in adding additional **quantitative data**, as we demonstrated here.\n",
    "\n",
    "Only use these additional encodings when absolutely necessary. Often, overuse of these additional encodings suggest you are providing too much information in a single plot. **Instead, it might be better to break the information into multiple individual messages,** so the audience can understand every aspect of your message. You can also build in each aspect one at a time, which you saw in the previous lesson with Hans Rosling. This feels less overwhelming than if you just saw this plot all at once."
   ]
  },
  {
   "cell_type": "markdown",
   "metadata": {},
   "source": [
    "### Bad visuals can be avoided by:\n",
    "\n",
    "1. Maintaining a large data-ink ratio and removing unnecessary items from visuals.\n",
    "\n",
    "2. Choosing visual encodings that work to highlight insights.\n",
    "\n",
    "3. Maintaining data Integrity in the visual.\n",
    "\n",
    "For explanatory visuals:\n",
    "\n",
    "1. Focus the audience's attention on the insight you want them to act on.\n",
    "2. Use color only when necessary. Simple is often better.\n",
    "3. Tell a story. More on this ahead!"
   ]
  },
  {
   "cell_type": "markdown",
   "metadata": {},
   "source": [
    "### Telling stories\n",
    "Telling stories with data follows these steps:\n",
    "\n",
    "1. Start with a Question\n",
    "2. Repetition is a Good Thing\n",
    "3. Highlight the Answer\n",
    "4. Call Your Audience To Action"
   ]
  },
  {
   "cell_type": "code",
   "execution_count": null,
   "metadata": {},
   "outputs": [],
   "source": []
  },
  {
   "cell_type": "code",
   "execution_count": null,
   "metadata": {},
   "outputs": [],
   "source": []
  },
  {
   "cell_type": "code",
   "execution_count": null,
   "metadata": {},
   "outputs": [],
   "source": []
  },
  {
   "cell_type": "code",
   "execution_count": null,
   "metadata": {},
   "outputs": [],
   "source": []
  },
  {
   "cell_type": "markdown",
   "metadata": {},
   "source": [
    "### Python Data Visualization Libraries\n",
    "In this course, you will make use of the following libraries for creating data visualizations:\n",
    "\n",
    "- Matplotlib: a versatile library for visualizations, but it can take some code effort to put together common visualizations.\n",
    "- Seaborn: built on top of matplotlib, adds a number of functions to make common statistical visualizations easier to generate.\n",
    "- pandas: while this library includes some convenient methods for visualizing data that hook into matplotlib, we'll mainly be using it for its main purpose as a general tool for working with data.\n",
    "All together, these libraries will allow you to visualize data in a balance of productivity and flexibility, for both exploratory as well as explanatory analyses."
   ]
  }
 ],
 "metadata": {
  "kernelspec": {
   "display_name": "Python 3",
   "language": "python",
   "name": "python3"
  },
  "language_info": {
   "codemirror_mode": {
    "name": "ipython",
    "version": 3
   },
   "file_extension": ".py",
   "mimetype": "text/x-python",
   "name": "python",
   "nbconvert_exporter": "python",
   "pygments_lexer": "ipython3",
   "version": "3.7.5"
  }
 },
 "nbformat": 4,
 "nbformat_minor": 2
}
